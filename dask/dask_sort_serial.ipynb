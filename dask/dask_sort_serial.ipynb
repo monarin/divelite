{
 "cells": [
  {
   "cell_type": "code",
   "execution_count": 1,
   "id": "40e4efb9-c884-49cb-a03e-195e7ddb875d",
   "metadata": {},
   "outputs": [],
   "source": [
    "import h5py\n",
    "import dask\n",
    "import dask.array as da\n",
    "import numpy as np\n",
    "f=h5py.File('/sdf/data/lcls/drpsrcf/ffb/users/monarin/h5/mysmallh5.h5', 'r')"
   ]
  },
  {
   "cell_type": "code",
   "execution_count": 2,
   "id": "41e7dea9-dfc0-4a8b-b8c9-b4a1d4aac459",
   "metadata": {},
   "outputs": [
    {
     "name": "stdout",
     "output_type": "stream",
     "text": [
      "CPU times: user 4.04 ms, sys: 0 ns, total: 4.04 ms\n",
      "Wall time: 3.63 ms\n"
     ]
    }
   ],
   "source": [
    "%%time\n",
    "da_ts = da.from_array(f['timestamp'], chunks='auto')"
   ]
  },
  {
   "cell_type": "code",
   "execution_count": 3,
   "id": "163245ac-8089-4a23-93ff-7e3081d4b687",
   "metadata": {},
   "outputs": [
    {
     "name": "stdout",
     "output_type": "stream",
     "text": [
      "CPU times: user 20 s, sys: 3.75 s, total: 23.8 s\n",
      "Wall time: 24 s\n"
     ]
    }
   ],
   "source": [
    "%%time\n",
    "inds = da_ts.argtopk(-da_ts.shape[0]).compute()"
   ]
  },
  {
   "cell_type": "code",
   "execution_count": null,
   "id": "2c5ce3a6-ac25-47a3-9486-4ddfabb1c34f",
   "metadata": {},
   "outputs": [],
   "source": []
  }
 ],
 "metadata": {
  "kernelspec": {
   "display_name": "Python 3 (ipykernel)",
   "language": "python",
   "name": "python3"
  },
  "language_info": {
   "codemirror_mode": {
    "name": "ipython",
    "version": 3
   },
   "file_extension": ".py",
   "mimetype": "text/x-python",
   "name": "python",
   "nbconvert_exporter": "python",
   "pygments_lexer": "ipython3",
   "version": "3.9.16"
  }
 },
 "nbformat": 4,
 "nbformat_minor": 5
}
