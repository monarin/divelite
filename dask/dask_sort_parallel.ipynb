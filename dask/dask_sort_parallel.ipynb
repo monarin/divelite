{
 "cells": [
  {
   "cell_type": "code",
   "execution_count": 1,
   "id": "cc47de9c-9012-410d-864c-37dec612b2ae",
   "metadata": {},
   "outputs": [
    {
     "name": "stderr",
     "output_type": "stream",
     "text": [
      "/sdf/group/lcls/ds/ana/sw/conda2/inst/envs/ps-4.6.1/lib/python3.9/site-packages/distributed/node.py:182: UserWarning: Port 8787 is already in use.\n",
      "Perhaps you already have a cluster running?\n",
      "Hosting the HTTP server on port 34171 instead\n",
      "  warnings.warn(\n"
     ]
    }
   ],
   "source": [
    "from dask_jobqueue import SLURMCluster\n",
    "from dask.distributed import Client, progress\n",
    "partition = 'milano'  # For LCLS II staff\n",
    "\n",
    "cluster = SLURMCluster(\n",
    "    queue=partition,\n",
    "    account=\"lcls:data\",\n",
    "    local_directory='/sdf/home/m/monarin/tmp/',  # Local disk space for workers to use\n",
    "\n",
    "    # Resources per SLURM job (per node, the way SLURM is configured on Roma)\n",
    "    # processes=16 runs 16 Dask workers in a job, so each worker has 1 core & 32 GB RAM.\n",
    "    processes=4, cores=4, memory='512GB',\n",
    ")"
   ]
  },
  {
   "cell_type": "code",
   "execution_count": 2,
   "id": "bd326661-3353-41ae-8c03-fd2a07e22dbc",
   "metadata": {},
   "outputs": [
    {
     "data": {
      "text/plain": [
       "'#!/usr/bin/env bash\\n\\n#SBATCH -J dask-worker\\n#SBATCH -p milano\\n#SBATCH -A lcls:data\\n#SBATCH -n 1\\n#SBATCH --cpus-per-task=4\\n#SBATCH --mem=477G\\n#SBATCH -t 00:30:00\\n\\n/sdf/group/lcls/ds/ana/sw/conda2/inst/envs/ps-4.6.1/bin/python -m distributed.cli.dask_worker tcp://172.24.49.11:34239 --nthreads 1 --nworkers 4 --memory-limit 119.21GiB --name dummy-name --nanny --death-timeout 60 --local-directory /sdf/home/m/monarin/tmp/\\n'"
      ]
     },
     "execution_count": 2,
     "metadata": {},
     "output_type": "execute_result"
    }
   ],
   "source": [
    "cluster.scale(jobs=1)\n",
    "cluster.job_script()"
   ]
  },
  {
   "cell_type": "code",
   "execution_count": 3,
   "id": "05874279-0dad-4639-a5ab-7c4ca8e1826c",
   "metadata": {},
   "outputs": [],
   "source": [
    "client = Client(cluster)"
   ]
  },
  {
   "cell_type": "code",
   "execution_count": 4,
   "id": "2630bd10-b7e5-4482-9019-fd77ed8d22f0",
   "metadata": {},
   "outputs": [
    {
     "name": "stdout",
     "output_type": "stream",
     "text": [
      "sdfiana001\n"
     ]
    }
   ],
   "source": [
    "%%bash\n",
    "hostname"
   ]
  },
  {
   "cell_type": "code",
   "execution_count": 5,
   "id": "5fbdd135-fbc7-4150-a195-99f6c9df85d9",
   "metadata": {},
   "outputs": [
    {
     "data": {
      "text/html": [
       "<div>\n",
       "    <div style=\"width: 24px; height: 24px; background-color: #e1e1e1; border: 3px solid #9D9D9D; border-radius: 5px; position: absolute;\"> </div>\n",
       "    <div style=\"margin-left: 48px;\">\n",
       "        <h3 style=\"margin-bottom: 0px;\">Client</h3>\n",
       "        <p style=\"color: #9D9D9D; margin-bottom: 0px;\">Client-49fdb01a-92de-11ee-8c40-506b4bc75ee8</p>\n",
       "        <table style=\"width: 100%; text-align: left;\">\n",
       "\n",
       "        <tr>\n",
       "        \n",
       "            <td style=\"text-align: left;\"><strong>Connection method:</strong> Cluster object</td>\n",
       "            <td style=\"text-align: left;\"><strong>Cluster type:</strong> dask_jobqueue.SLURMCluster</td>\n",
       "        \n",
       "        </tr>\n",
       "\n",
       "        \n",
       "            <tr>\n",
       "                <td style=\"text-align: left;\">\n",
       "                    <strong>Dashboard: </strong> <a href=\"http://172.24.49.11:34171/status\" target=\"_blank\">http://172.24.49.11:34171/status</a>\n",
       "                </td>\n",
       "                <td style=\"text-align: left;\"></td>\n",
       "            </tr>\n",
       "        \n",
       "\n",
       "        </table>\n",
       "\n",
       "        \n",
       "\n",
       "        \n",
       "            <details>\n",
       "            <summary style=\"margin-bottom: 20px;\"><h3 style=\"display: inline;\">Cluster Info</h3></summary>\n",
       "            <div class=\"jp-RenderedHTMLCommon jp-RenderedHTML jp-mod-trusted jp-OutputArea-output\">\n",
       "    <div style=\"width: 24px; height: 24px; background-color: #e1e1e1; border: 3px solid #9D9D9D; border-radius: 5px; position: absolute;\">\n",
       "    </div>\n",
       "    <div style=\"margin-left: 48px;\">\n",
       "        <h3 style=\"margin-bottom: 0px; margin-top: 0px;\">SLURMCluster</h3>\n",
       "        <p style=\"color: #9D9D9D; margin-bottom: 0px;\">965c8d7e</p>\n",
       "        <table style=\"width: 100%; text-align: left;\">\n",
       "            <tr>\n",
       "                <td style=\"text-align: left;\">\n",
       "                    <strong>Dashboard:</strong> <a href=\"http://172.24.49.11:34171/status\" target=\"_blank\">http://172.24.49.11:34171/status</a>\n",
       "                </td>\n",
       "                <td style=\"text-align: left;\">\n",
       "                    <strong>Workers:</strong> 4\n",
       "                </td>\n",
       "            </tr>\n",
       "            <tr>\n",
       "                <td style=\"text-align: left;\">\n",
       "                    <strong>Total threads:</strong> 4\n",
       "                </td>\n",
       "                <td style=\"text-align: left;\">\n",
       "                    <strong>Total memory:</strong> 476.84 GiB\n",
       "                </td>\n",
       "            </tr>\n",
       "            \n",
       "        </table>\n",
       "\n",
       "        <details>\n",
       "            <summary style=\"margin-bottom: 20px;\">\n",
       "                <h3 style=\"display: inline;\">Scheduler Info</h3>\n",
       "            </summary>\n",
       "\n",
       "            <div style=\"\">\n",
       "    <div>\n",
       "        <div style=\"width: 24px; height: 24px; background-color: #FFF7E5; border: 3px solid #FF6132; border-radius: 5px; position: absolute;\"> </div>\n",
       "        <div style=\"margin-left: 48px;\">\n",
       "            <h3 style=\"margin-bottom: 0px;\">Scheduler</h3>\n",
       "            <p style=\"color: #9D9D9D; margin-bottom: 0px;\">Scheduler-5e2f3c3c-896b-49b6-b203-0587c3ac2c81</p>\n",
       "            <table style=\"width: 100%; text-align: left;\">\n",
       "                <tr>\n",
       "                    <td style=\"text-align: left;\">\n",
       "                        <strong>Comm:</strong> tcp://172.24.49.11:34239\n",
       "                    </td>\n",
       "                    <td style=\"text-align: left;\">\n",
       "                        <strong>Workers:</strong> 4\n",
       "                    </td>\n",
       "                </tr>\n",
       "                <tr>\n",
       "                    <td style=\"text-align: left;\">\n",
       "                        <strong>Dashboard:</strong> <a href=\"http://172.24.49.11:34171/status\" target=\"_blank\">http://172.24.49.11:34171/status</a>\n",
       "                    </td>\n",
       "                    <td style=\"text-align: left;\">\n",
       "                        <strong>Total threads:</strong> 4\n",
       "                    </td>\n",
       "                </tr>\n",
       "                <tr>\n",
       "                    <td style=\"text-align: left;\">\n",
       "                        <strong>Started:</strong> Just now\n",
       "                    </td>\n",
       "                    <td style=\"text-align: left;\">\n",
       "                        <strong>Total memory:</strong> 476.84 GiB\n",
       "                    </td>\n",
       "                </tr>\n",
       "            </table>\n",
       "        </div>\n",
       "    </div>\n",
       "\n",
       "    <details style=\"margin-left: 48px;\">\n",
       "        <summary style=\"margin-bottom: 20px;\">\n",
       "            <h3 style=\"display: inline;\">Workers</h3>\n",
       "        </summary>\n",
       "\n",
       "        \n",
       "        <div style=\"margin-bottom: 20px;\">\n",
       "            <div style=\"width: 24px; height: 24px; background-color: #DBF5FF; border: 3px solid #4CC9FF; border-radius: 5px; position: absolute;\"> </div>\n",
       "            <div style=\"margin-left: 48px;\">\n",
       "            <details>\n",
       "                <summary>\n",
       "                    <h4 style=\"margin-bottom: 0px; display: inline;\">Worker: SLURMCluster-0-0</h4>\n",
       "                </summary>\n",
       "                <table style=\"width: 100%; text-align: left;\">\n",
       "                    <tr>\n",
       "                        <td style=\"text-align: left;\">\n",
       "                            <strong>Comm: </strong> tcp://172.24.48.127:42293\n",
       "                        </td>\n",
       "                        <td style=\"text-align: left;\">\n",
       "                            <strong>Total threads: </strong> 1\n",
       "                        </td>\n",
       "                    </tr>\n",
       "                    <tr>\n",
       "                        <td style=\"text-align: left;\">\n",
       "                            <strong>Dashboard: </strong> <a href=\"http://172.24.48.127:32771/status\" target=\"_blank\">http://172.24.48.127:32771/status</a>\n",
       "                        </td>\n",
       "                        <td style=\"text-align: left;\">\n",
       "                            <strong>Memory: </strong> 119.21 GiB\n",
       "                        </td>\n",
       "                    </tr>\n",
       "                    <tr>\n",
       "                        <td style=\"text-align: left;\">\n",
       "                            <strong>Nanny: </strong> tcp://172.24.48.127:36565\n",
       "                        </td>\n",
       "                        <td style=\"text-align: left;\"></td>\n",
       "                    </tr>\n",
       "                    <tr>\n",
       "                        <td colspan=\"2\" style=\"text-align: left;\">\n",
       "                            <strong>Local directory: </strong> /sdf/home/m/monarin/tmp/dask-scratch-space/worker-o6rht42c\n",
       "                        </td>\n",
       "                    </tr>\n",
       "\n",
       "                    \n",
       "\n",
       "                    \n",
       "\n",
       "                </table>\n",
       "            </details>\n",
       "            </div>\n",
       "        </div>\n",
       "        \n",
       "        <div style=\"margin-bottom: 20px;\">\n",
       "            <div style=\"width: 24px; height: 24px; background-color: #DBF5FF; border: 3px solid #4CC9FF; border-radius: 5px; position: absolute;\"> </div>\n",
       "            <div style=\"margin-left: 48px;\">\n",
       "            <details>\n",
       "                <summary>\n",
       "                    <h4 style=\"margin-bottom: 0px; display: inline;\">Worker: SLURMCluster-0-1</h4>\n",
       "                </summary>\n",
       "                <table style=\"width: 100%; text-align: left;\">\n",
       "                    <tr>\n",
       "                        <td style=\"text-align: left;\">\n",
       "                            <strong>Comm: </strong> tcp://172.24.48.127:34393\n",
       "                        </td>\n",
       "                        <td style=\"text-align: left;\">\n",
       "                            <strong>Total threads: </strong> 1\n",
       "                        </td>\n",
       "                    </tr>\n",
       "                    <tr>\n",
       "                        <td style=\"text-align: left;\">\n",
       "                            <strong>Dashboard: </strong> <a href=\"http://172.24.48.127:35965/status\" target=\"_blank\">http://172.24.48.127:35965/status</a>\n",
       "                        </td>\n",
       "                        <td style=\"text-align: left;\">\n",
       "                            <strong>Memory: </strong> 119.21 GiB\n",
       "                        </td>\n",
       "                    </tr>\n",
       "                    <tr>\n",
       "                        <td style=\"text-align: left;\">\n",
       "                            <strong>Nanny: </strong> tcp://172.24.48.127:40521\n",
       "                        </td>\n",
       "                        <td style=\"text-align: left;\"></td>\n",
       "                    </tr>\n",
       "                    <tr>\n",
       "                        <td colspan=\"2\" style=\"text-align: left;\">\n",
       "                            <strong>Local directory: </strong> /sdf/home/m/monarin/tmp/dask-scratch-space/worker-sa3ql13x\n",
       "                        </td>\n",
       "                    </tr>\n",
       "\n",
       "                    \n",
       "\n",
       "                    \n",
       "\n",
       "                </table>\n",
       "            </details>\n",
       "            </div>\n",
       "        </div>\n",
       "        \n",
       "        <div style=\"margin-bottom: 20px;\">\n",
       "            <div style=\"width: 24px; height: 24px; background-color: #DBF5FF; border: 3px solid #4CC9FF; border-radius: 5px; position: absolute;\"> </div>\n",
       "            <div style=\"margin-left: 48px;\">\n",
       "            <details>\n",
       "                <summary>\n",
       "                    <h4 style=\"margin-bottom: 0px; display: inline;\">Worker: SLURMCluster-0-2</h4>\n",
       "                </summary>\n",
       "                <table style=\"width: 100%; text-align: left;\">\n",
       "                    <tr>\n",
       "                        <td style=\"text-align: left;\">\n",
       "                            <strong>Comm: </strong> tcp://172.24.48.127:32881\n",
       "                        </td>\n",
       "                        <td style=\"text-align: left;\">\n",
       "                            <strong>Total threads: </strong> 1\n",
       "                        </td>\n",
       "                    </tr>\n",
       "                    <tr>\n",
       "                        <td style=\"text-align: left;\">\n",
       "                            <strong>Dashboard: </strong> <a href=\"http://172.24.48.127:34547/status\" target=\"_blank\">http://172.24.48.127:34547/status</a>\n",
       "                        </td>\n",
       "                        <td style=\"text-align: left;\">\n",
       "                            <strong>Memory: </strong> 119.21 GiB\n",
       "                        </td>\n",
       "                    </tr>\n",
       "                    <tr>\n",
       "                        <td style=\"text-align: left;\">\n",
       "                            <strong>Nanny: </strong> tcp://172.24.48.127:42657\n",
       "                        </td>\n",
       "                        <td style=\"text-align: left;\"></td>\n",
       "                    </tr>\n",
       "                    <tr>\n",
       "                        <td colspan=\"2\" style=\"text-align: left;\">\n",
       "                            <strong>Local directory: </strong> /sdf/home/m/monarin/tmp/dask-scratch-space/worker-z8f5tynu\n",
       "                        </td>\n",
       "                    </tr>\n",
       "\n",
       "                    \n",
       "\n",
       "                    \n",
       "\n",
       "                </table>\n",
       "            </details>\n",
       "            </div>\n",
       "        </div>\n",
       "        \n",
       "        <div style=\"margin-bottom: 20px;\">\n",
       "            <div style=\"width: 24px; height: 24px; background-color: #DBF5FF; border: 3px solid #4CC9FF; border-radius: 5px; position: absolute;\"> </div>\n",
       "            <div style=\"margin-left: 48px;\">\n",
       "            <details>\n",
       "                <summary>\n",
       "                    <h4 style=\"margin-bottom: 0px; display: inline;\">Worker: SLURMCluster-0-3</h4>\n",
       "                </summary>\n",
       "                <table style=\"width: 100%; text-align: left;\">\n",
       "                    <tr>\n",
       "                        <td style=\"text-align: left;\">\n",
       "                            <strong>Comm: </strong> tcp://172.24.48.127:44269\n",
       "                        </td>\n",
       "                        <td style=\"text-align: left;\">\n",
       "                            <strong>Total threads: </strong> 1\n",
       "                        </td>\n",
       "                    </tr>\n",
       "                    <tr>\n",
       "                        <td style=\"text-align: left;\">\n",
       "                            <strong>Dashboard: </strong> <a href=\"http://172.24.48.127:33315/status\" target=\"_blank\">http://172.24.48.127:33315/status</a>\n",
       "                        </td>\n",
       "                        <td style=\"text-align: left;\">\n",
       "                            <strong>Memory: </strong> 119.21 GiB\n",
       "                        </td>\n",
       "                    </tr>\n",
       "                    <tr>\n",
       "                        <td style=\"text-align: left;\">\n",
       "                            <strong>Nanny: </strong> tcp://172.24.48.127:42391\n",
       "                        </td>\n",
       "                        <td style=\"text-align: left;\"></td>\n",
       "                    </tr>\n",
       "                    <tr>\n",
       "                        <td colspan=\"2\" style=\"text-align: left;\">\n",
       "                            <strong>Local directory: </strong> /sdf/home/m/monarin/tmp/dask-scratch-space/worker-skpnpk6_\n",
       "                        </td>\n",
       "                    </tr>\n",
       "\n",
       "                    \n",
       "\n",
       "                    \n",
       "\n",
       "                </table>\n",
       "            </details>\n",
       "            </div>\n",
       "        </div>\n",
       "        \n",
       "\n",
       "    </details>\n",
       "</div>\n",
       "\n",
       "        </details>\n",
       "    </div>\n",
       "</div>\n",
       "            </details>\n",
       "        \n",
       "\n",
       "    </div>\n",
       "</div>"
      ],
      "text/plain": [
       "<Client: 'tcp://172.24.49.11:34239' processes=0 threads=0, memory=0 B>"
      ]
     },
     "execution_count": 5,
     "metadata": {},
     "output_type": "execute_result"
    }
   ],
   "source": [
    "client"
   ]
  },
  {
   "cell_type": "code",
   "execution_count": 6,
   "id": "796e9621-5d4a-42dc-a0a4-7ed43739a575",
   "metadata": {},
   "outputs": [],
   "source": [
    "import h5py\n",
    "import dask\n",
    "import dask.array as da\n",
    "import numpy as np\n",
    "f=h5py.File('/sdf/data/lcls/drpsrcf/ffb/users/monarin/h5/mysmallh5.h5', 'r')"
   ]
  },
  {
   "cell_type": "code",
   "execution_count": 7,
   "id": "8fcbb6f0-466f-417d-9b94-4145cfd34f6e",
   "metadata": {},
   "outputs": [
    {
     "name": "stdout",
     "output_type": "stream",
     "text": [
      "CPU times: user 1.21 ms, sys: 1.91 ms, total: 3.12 ms\n",
      "Wall time: 2.72 ms\n"
     ]
    }
   ],
   "source": [
    "%%time\n",
    "da_ts = da.from_array(f['timestamp'], chunks='auto')"
   ]
  },
  {
   "cell_type": "code",
   "execution_count": 8,
   "id": "cdc090ba-cc8c-45d2-b058-c56f434f6636",
   "metadata": {},
   "outputs": [
    {
     "name": "stdout",
     "output_type": "stream",
     "text": [
      "CPU times: user 227 ms, sys: 120 ms, total: 348 ms\n",
      "Wall time: 12.4 s\n"
     ]
    }
   ],
   "source": [
    "%%time\n",
    "inds = da_ts.argtopk(-da_ts.shape[0]).compute()"
   ]
  },
  {
   "cell_type": "code",
   "execution_count": 11,
   "id": "9a358028-a50c-4cfe-9864-4a39e8ba36e0",
   "metadata": {},
   "outputs": [],
   "source": [
    "da_arr = da.from_array(f['calib'], chunks=tuple([10000000]+list(f['calib'].shape[1:])))"
   ]
  },
  {
   "cell_type": "code",
   "execution_count": 12,
   "id": "fb9c3a67-1e58-48e9-b32e-f0043e7af5b2",
   "metadata": {},
   "outputs": [
    {
     "data": {
      "text/html": [
       "<table>\n",
       "    <tr>\n",
       "        <td>\n",
       "            <table style=\"border-collapse: collapse;\">\n",
       "                <thead>\n",
       "                    <tr>\n",
       "                        <td> </td>\n",
       "                        <th> Array </th>\n",
       "                        <th> Chunk </th>\n",
       "                    </tr>\n",
       "                </thead>\n",
       "                <tbody>\n",
       "                    \n",
       "                    <tr>\n",
       "                        <th> Bytes </th>\n",
       "                        <td> 457.76 MiB </td>\n",
       "                        <td> 457.76 MiB </td>\n",
       "                    </tr>\n",
       "                    \n",
       "                    <tr>\n",
       "                        <th> Shape </th>\n",
       "                        <td> (10000000, 6) </td>\n",
       "                        <td> (10000000, 6) </td>\n",
       "                    </tr>\n",
       "                    <tr>\n",
       "                        <th> Dask graph </th>\n",
       "                        <td colspan=\"2\"> 1 chunks in 2 graph layers </td>\n",
       "                    </tr>\n",
       "                    <tr>\n",
       "                        <th> Data type </th>\n",
       "                        <td colspan=\"2\"> float64 numpy.ndarray </td>\n",
       "                    </tr>\n",
       "                </tbody>\n",
       "            </table>\n",
       "        </td>\n",
       "        <td>\n",
       "        <svg width=\"75\" height=\"170\" style=\"stroke:rgb(0,0,0);stroke-width:1\" >\n",
       "\n",
       "  <!-- Horizontal lines -->\n",
       "  <line x1=\"0\" y1=\"0\" x2=\"25\" y2=\"0\" style=\"stroke-width:2\" />\n",
       "  <line x1=\"0\" y1=\"120\" x2=\"25\" y2=\"120\" style=\"stroke-width:2\" />\n",
       "\n",
       "  <!-- Vertical lines -->\n",
       "  <line x1=\"0\" y1=\"0\" x2=\"0\" y2=\"120\" style=\"stroke-width:2\" />\n",
       "  <line x1=\"25\" y1=\"0\" x2=\"25\" y2=\"120\" style=\"stroke-width:2\" />\n",
       "\n",
       "  <!-- Colored Rectangle -->\n",
       "  <polygon points=\"0.0,0.0 25.412616514582485,0.0 25.412616514582485,120.0 0.0,120.0\" style=\"fill:#ECB172A0;stroke-width:0\"/>\n",
       "\n",
       "  <!-- Text -->\n",
       "  <text x=\"12.706308\" y=\"140.000000\" font-size=\"1.0rem\" font-weight=\"100\" text-anchor=\"middle\" >6</text>\n",
       "  <text x=\"45.412617\" y=\"60.000000\" font-size=\"1.0rem\" font-weight=\"100\" text-anchor=\"middle\" transform=\"rotate(-90,45.412617,60.000000)\">10000000</text>\n",
       "</svg>\n",
       "        </td>\n",
       "    </tr>\n",
       "</table>"
      ],
      "text/plain": [
       "dask.array<array, shape=(10000000, 6), dtype=float64, chunksize=(10000000, 6), chunktype=numpy.ndarray>"
      ]
     },
     "execution_count": 12,
     "metadata": {},
     "output_type": "execute_result"
    }
   ],
   "source": [
    "da_arr"
   ]
  },
  {
   "cell_type": "code",
   "execution_count": 9,
   "id": "2d1519a4-9a59-4dd8-9786-7258b857f2c2",
   "metadata": {},
   "outputs": [],
   "source": [
    "import dask.dataframe as dd\n",
    "import pandas as pd"
   ]
  },
  {
   "cell_type": "code",
   "execution_count": 10,
   "id": "84f31d28-2f5a-478b-910f-02def8ee6b46",
   "metadata": {},
   "outputs": [],
   "source": [
    "d = {'col1': [1, 2, 3, 4], 'col2': [5, 6, 7, 8]}"
   ]
  },
  {
   "cell_type": "code",
   "execution_count": 11,
   "id": "73a42b9f-8fe3-4b7b-9a88-24ce4b0c0484",
   "metadata": {},
   "outputs": [],
   "source": [
    "df = dd.from_pandas(pd.DataFrame(data=d), npartitions=2)"
   ]
  },
  {
   "cell_type": "code",
   "execution_count": 12,
   "id": "738fef1c-3f84-41b8-ba0e-e0306fff21b8",
   "metadata": {},
   "outputs": [
    {
     "data": {
      "text/plain": [
       "['/sdf/data/lcls/drpsrcf/ffb/users/monarin/h5/output.hdf',\n",
       " '/sdf/data/lcls/drpsrcf/ffb/users/monarin/h5/output.hdf']"
      ]
     },
     "execution_count": 12,
     "metadata": {},
     "output_type": "execute_result"
    }
   ],
   "source": [
    "df.to_hdf('/sdf/data/lcls/drpsrcf/ffb/users/monarin/h5/output.hdf', '/data')  "
   ]
  },
  {
   "cell_type": "code",
   "execution_count": 27,
   "id": "71fe1c3c-f381-48d1-92cb-7629dcda9adb",
   "metadata": {},
   "outputs": [],
   "source": [
    "df_arr = dd.from_dask_array(da_arr)"
   ]
  },
  {
   "cell_type": "code",
   "execution_count": 28,
   "id": "a9f95b67-4499-4e1b-86d5-7410cbb8b2a2",
   "metadata": {},
   "outputs": [
    {
     "data": {
      "text/html": [
       "<div><strong>Dask DataFrame Structure:</strong></div>\n",
       "<div>\n",
       "<style scoped>\n",
       "    .dataframe tbody tr th:only-of-type {\n",
       "        vertical-align: middle;\n",
       "    }\n",
       "\n",
       "    .dataframe tbody tr th {\n",
       "        vertical-align: top;\n",
       "    }\n",
       "\n",
       "    .dataframe thead th {\n",
       "        text-align: right;\n",
       "    }\n",
       "</style>\n",
       "<table border=\"1\" class=\"dataframe\">\n",
       "  <thead>\n",
       "    <tr style=\"text-align: right;\">\n",
       "      <th></th>\n",
       "      <th>0</th>\n",
       "      <th>1</th>\n",
       "      <th>2</th>\n",
       "      <th>3</th>\n",
       "      <th>4</th>\n",
       "      <th>5</th>\n",
       "    </tr>\n",
       "    <tr>\n",
       "      <th>npartitions=1</th>\n",
       "      <th></th>\n",
       "      <th></th>\n",
       "      <th></th>\n",
       "      <th></th>\n",
       "      <th></th>\n",
       "      <th></th>\n",
       "    </tr>\n",
       "  </thead>\n",
       "  <tbody>\n",
       "    <tr>\n",
       "      <th>0</th>\n",
       "      <td>float64</td>\n",
       "      <td>float64</td>\n",
       "      <td>float64</td>\n",
       "      <td>float64</td>\n",
       "      <td>float64</td>\n",
       "      <td>float64</td>\n",
       "    </tr>\n",
       "    <tr>\n",
       "      <th>9999999</th>\n",
       "      <td>...</td>\n",
       "      <td>...</td>\n",
       "      <td>...</td>\n",
       "      <td>...</td>\n",
       "      <td>...</td>\n",
       "      <td>...</td>\n",
       "    </tr>\n",
       "  </tbody>\n",
       "</table>\n",
       "</div>\n",
       "<div>Dask Name: from-dask-array, 3 graph layers</div>"
      ],
      "text/plain": [
       "Dask DataFrame Structure:\n",
       "                     0        1        2        3        4        5\n",
       "npartitions=1                                                      \n",
       "0              float64  float64  float64  float64  float64  float64\n",
       "9999999            ...      ...      ...      ...      ...      ...\n",
       "Dask Name: from-dask-array, 3 graph layers"
      ]
     },
     "execution_count": 28,
     "metadata": {},
     "output_type": "execute_result"
    }
   ],
   "source": [
    "df_arr"
   ]
  },
  {
   "cell_type": "code",
   "execution_count": 31,
   "id": "96b9a32b-a1d7-48d4-9904-68f05e65e6b2",
   "metadata": {},
   "outputs": [],
   "source": [
    "from distributed.protocol import serialize"
   ]
  },
  {
   "cell_type": "code",
   "execution_count": 32,
   "id": "68ef9e9b-0f75-4201-8a76-e57ac48809aa",
   "metadata": {},
   "outputs": [
    {
     "data": {
      "text/plain": [
       "({'serializer': 'pickle', 'writeable': (True,)},\n",
       " [b'\\x80\\x05\\x95_\\x05\\x00\\x00\\x00\\x00\\x00\\x00\\x8c\\x0fdask.array.core\\x94\\x8c\\x05Array\\x94\\x93\\x94(\\x8c\\x13dask.highlevelgraph\\x94\\x8c\\x0eHighLevelGraph\\x94\\x93\\x94)\\x81\\x94}\\x94(\\x8c\\x0cdependencies\\x94}\\x94(\\x8c/original-array-34a219a9e3535b7b9ba13fad14698627\\x94\\x8f\\x94\\x8c&array-34a219a9e3535b7b9ba13fad14698627\\x94\\x8f\\x94(h\\n\\x90u\\x8c\\x10key_dependencies\\x94}\\x94\\x8c\\x06layers\\x94}\\x94(h\\nh\\x03\\x8c\\x11MaterializedLayer\\x94\\x93\\x94)\\x81\\x94}\\x94(\\x8c\\x0bannotations\\x94N\\x8c\\x16collection_annotations\\x94N\\x8c\\x07mapping\\x94}\\x94h\\n\\x8c\\x19distributed.protocol.h5py\\x94\\x8c\\x18deserialize_h5py_dataset\\x94\\x93\\x94}\\x94(\\x8c\\x08filename\\x94\\x8c8/sdf/data/lcls/drpsrcf/ffb/users/monarin/h5/mysmallh5.h5\\x94\\x8c\\x04name\\x94\\x8c\\x06/calib\\x94u]\\x94\\x86\\x94R\\x94subh\\x0c\\x8c\\x0edask.blockwise\\x94\\x8c\\tBlockwise\\x94\\x93\\x94)\\x81\\x94}\\x94(h\\x16Nh\\x17}\\x94(\\x8c\\x05shape\\x94J\\x80\\x96\\x98\\x00K\\x06\\x86\\x94\\x8c\\x05dtype\\x94\\x8c\\x05numpy\\x94h-\\x93\\x94\\x8c\\x02f8\\x94\\x89\\x88\\x87\\x94R\\x94(K\\x03\\x8c\\x01<\\x94NNNJ\\xff\\xff\\xff\\xffJ\\xff\\xff\\xff\\xffK\\x00t\\x94b\\x8c\\tchunksize\\x94J\\x80\\x96\\x98\\x00K\\x06\\x86\\x94\\x8c\\x06chunks\\x94J\\x80\\x96\\x98\\x00\\x85\\x94K\\x06\\x85\\x94\\x86\\x94\\x8c\\x04type\\x94\\x8c\\x15dask.array.core.Array\\x94\\x8c\\nchunk_type\\x94\\x8c\\rnumpy.ndarray\\x94u\\x8c\\x06output\\x94h\\x0c\\x8c\\x0eoutput_indices\\x94\\x8c\\x02.0\\x94\\x8c\\x02.1\\x94\\x86\\x94\\x8c\\routput_blocks\\x94N\\x8c\\x03dsk\\x94}\\x94h\\x0ch\\x00\\x8c\\x06getter\\x94\\x93\\x94\\x8c\\x13__dask_blockwise__0\\x94\\x8c\\x13__dask_blockwise__1\\x94\\x87\\x94s\\x8c\\tnumblocks\\x94}\\x94\\x8c 3246070324a51b739bc01f1aa6d70267\\x94K\\x01K\\x01\\x86\\x94s\\x8c\\x07io_deps\\x94}\\x94hN\\x8c\\x0bdask.layers\\x94\\x8c\\rArraySliceDep\\x94\\x93\\x94)\\x81\\x94}\\x94(h7J\\x80\\x96\\x98\\x00\\x85\\x94K\\x06\\x85\\x94\\x86\\x94hLhO\\x8c\\x0eproduces_tasks\\x94\\x89\\x8c\\x06starts\\x94K\\x00J\\x80\\x96\\x98\\x00\\x86\\x94K\\x00K\\x06\\x86\\x94\\x86\\x94ubs\\x8c\\x07indices\\x94h\\nN\\x86\\x94hNhAhB\\x86\\x94\\x86\\x94\\x86\\x94\\x8c\\x0bconcatenate\\x94N\\x8c\\x08new_axes\\x94}\\x94\\x8c\\x05_dims\\x94}\\x94(hAK\\x01hBK\\x01u\\x8c\\x0c_cached_dict\\x94}\\x94hE}\\x94h\\x0cK\\x00K\\x00\\x87\\x94\\x8c\\x11dask.optimization\\x94\\x8c\\x10SubgraphCallable\\x94\\x93\\x94(hFh\\x0c\\x8c\\x13__dask_blockwise__0\\x94\\x8c\\x13__dask_blockwise__1\\x94\\x86\\x94\\x8c6subgraph_callable-ed0eb9d9-6644-490d-bbaa-03709a44698b\\x94t\\x94R\\x94h\\n\\x8c\\x08builtins\\x94\\x8c\\x05slice\\x94\\x93\\x94K\\x00J\\x80\\x96\\x98\\x00N\\x87\\x94R\\x94hxK\\x00K\\x06N\\x87\\x94R\\x94\\x86\\x94\\x87\\x94ssubuubh\\x0ch:h2\\x8c\\x12numpy.core.numeric\\x94\\x8c\\x0b_frombuffer\\x94\\x93\\x94(\\x97h2K\\x00K\\x00\\x86\\x94\\x8c\\x01C\\x94t\\x94R\\x94t\\x94R\\x94.',\n",
       "  <memory at 0x7f2b465e1ee0>])"
      ]
     },
     "execution_count": 32,
     "metadata": {},
     "output_type": "execute_result"
    }
   ],
   "source": [
    "serialize(da_arr)"
   ]
  },
  {
   "cell_type": "code",
   "execution_count": 33,
   "id": "1bf89d6d-fb87-4a84-8119-a6a1c1ba9384",
   "metadata": {},
   "outputs": [
    {
     "data": {
      "text/plain": [
       "({'serializer': 'pickle', 'writeable': (True, True)},\n",
       " [b'\\x80\\x05\\x95h\\n\\x00\\x00\\x00\\x00\\x00\\x00\\x8c\\x13dask.dataframe.core\\x94\\x8c\\tDataFrame\\x94\\x93\\x94)\\x81\\x94(\\x8c\\x13dask.highlevelgraph\\x94\\x8c\\x0eHighLevelGraph\\x94\\x93\\x94)\\x81\\x94}\\x94(\\x8c\\x0cdependencies\\x94}\\x94(\\x8c/original-array-34a219a9e3535b7b9ba13fad14698627\\x94\\x8f\\x94\\x8c&array-34a219a9e3535b7b9ba13fad14698627\\x94\\x8f\\x94(h\\x0b\\x90\\x8c0from-dask-array-ffa8d98e84138813fe45d79f65d2bf13\\x94\\x8f\\x94(h\\r\\x90u\\x8c\\x10key_dependencies\\x94}\\x94\\x8c\\x06layers\\x94}\\x94(h\\x0bh\\x04\\x8c\\x11MaterializedLayer\\x94\\x93\\x94)\\x81\\x94}\\x94(\\x8c\\x0bannotations\\x94N\\x8c\\x16collection_annotations\\x94N\\x8c\\x07mapping\\x94}\\x94h\\x0b\\x8c\\x19distributed.protocol.h5py\\x94\\x8c\\x18deserialize_h5py_dataset\\x94\\x93\\x94}\\x94(\\x8c\\x08filename\\x94\\x8c8/sdf/data/lcls/drpsrcf/ffb/users/monarin/h5/mysmallh5.h5\\x94\\x8c\\x04name\\x94\\x8c\\x06/calib\\x94u]\\x94\\x86\\x94R\\x94subh\\r\\x8c\\x0edask.blockwise\\x94\\x8c\\tBlockwise\\x94\\x93\\x94)\\x81\\x94}\\x94(h\\x19Nh\\x1a}\\x94(\\x8c\\x05shape\\x94J\\x80\\x96\\x98\\x00K\\x06\\x86\\x94\\x8c\\x05dtype\\x94\\x8c\\x05numpy\\x94h0\\x93\\x94\\x8c\\x02f8\\x94\\x89\\x88\\x87\\x94R\\x94(K\\x03\\x8c\\x01<\\x94NNNJ\\xff\\xff\\xff\\xffJ\\xff\\xff\\xff\\xffK\\x00t\\x94b\\x8c\\tchunksize\\x94J\\x80\\x96\\x98\\x00K\\x06\\x86\\x94\\x8c\\x06chunks\\x94J\\x80\\x96\\x98\\x00\\x85\\x94K\\x06\\x85\\x94\\x86\\x94\\x8c\\x04type\\x94\\x8c\\x15dask.array.core.Array\\x94\\x8c\\nchunk_type\\x94\\x8c\\rnumpy.ndarray\\x94u\\x8c\\x06output\\x94h\\r\\x8c\\x0eoutput_indices\\x94\\x8c\\x02.0\\x94\\x8c\\x02.1\\x94\\x86\\x94\\x8c\\routput_blocks\\x94N\\x8c\\x03dsk\\x94}\\x94h\\r\\x8c\\x0fdask.array.core\\x94\\x8c\\x06getter\\x94\\x93\\x94\\x8c\\x13__dask_blockwise__0\\x94\\x8c\\x13__dask_blockwise__1\\x94\\x87\\x94s\\x8c\\tnumblocks\\x94}\\x94\\x8c 3246070324a51b739bc01f1aa6d70267\\x94K\\x01K\\x01\\x86\\x94s\\x8c\\x07io_deps\\x94}\\x94hR\\x8c\\x0bdask.layers\\x94\\x8c\\rArraySliceDep\\x94\\x93\\x94)\\x81\\x94}\\x94(h:J\\x80\\x96\\x98\\x00\\x85\\x94K\\x06\\x85\\x94\\x86\\x94hPhS\\x8c\\x0eproduces_tasks\\x94\\x89\\x8c\\x06starts\\x94K\\x00J\\x80\\x96\\x98\\x00\\x86\\x94K\\x00K\\x06\\x86\\x94\\x86\\x94ubs\\x8c\\x07indices\\x94h\\x0bN\\x86\\x94hRhDhE\\x86\\x94\\x86\\x94\\x86\\x94\\x8c\\x0bconcatenate\\x94N\\x8c\\x08new_axes\\x94}\\x94\\x8c\\x05_dims\\x94}\\x94(hDK\\x01hEK\\x01u\\x8c\\x0c_cached_dict\\x94}\\x94hH}\\x94h\\rK\\x00K\\x00\\x87\\x94\\x8c\\x11dask.optimization\\x94\\x8c\\x10SubgraphCallable\\x94\\x93\\x94(hIh\\r\\x8c\\x13__dask_blockwise__0\\x94\\x8c\\x13__dask_blockwise__1\\x94\\x86\\x94\\x8c6subgraph_callable-ed0eb9d9-6644-490d-bbaa-03709a44698b\\x94t\\x94R\\x94h\\x0b\\x8c\\x08builtins\\x94\\x8c\\x05slice\\x94\\x93\\x94K\\x00J\\x80\\x96\\x98\\x00N\\x87\\x94R\\x94h|K\\x00K\\x06N\\x87\\x94R\\x94\\x86\\x94\\x87\\x94ssubh\\x0fh*)\\x81\\x94}\\x94(h\\x19Nh\\x1a}\\x94(\\x8c\\x0bnpartitions\\x94K\\x01\\x8c\\x07columns\\x94]\\x94(K\\x00K\\x01K\\x02K\\x03K\\x04K\\x05eh>\\x8c\\x1ddask.dataframe.core.DataFrame\\x94\\x8c\\x0edataframe_type\\x94\\x8c\\x1bpandas.core.frame.DataFrame\\x94\\x8c\\rseries_dtypes\\x94}\\x94(K\\x00h5K\\x01h5K\\x02h5K\\x03h5K\\x04h5K\\x05h5uuhBh\\x0fhC\\x8c\\x02.0\\x94\\x85\\x94hGNhH}\\x94h\\x0f(\\x8c\\ndask.utils\\x94\\x8c\\x05apply\\x94\\x93\\x94\\x8c\\x14dask.dataframe.io.io\\x94\\x8c\\x15_partition_from_array\\x94\\x93\\x94]\\x94(\\x8c\\x13__dask_blockwise__0\\x94\\x8c\\x13__dask_blockwise__1\\x94ehz\\x8c\\x04dict\\x94\\x93\\x94]\\x94(]\\x94(h\\x87\\x8c\\x18pandas.core.indexes.base\\x94\\x8c\\n_new_Index\\x94\\x93\\x94h\\x9e\\x8c\\x05Index\\x94\\x93\\x94}\\x94(\\x8c\\x04data\\x94\\x8c\\x12numpy.core.numeric\\x94\\x8c\\x0b_frombuffer\\x94\\x93\\x94(\\x97h2\\x8c\\x02i8\\x94\\x89\\x88\\x87\\x94R\\x94(K\\x03h6NNNJ\\xff\\xff\\xff\\xffJ\\xff\\xff\\xff\\xffK\\x00t\\x94bK\\x06\\x85\\x94\\x8c\\x01C\\x94t\\x94R\\x94h#Nu\\x86\\x94R\\x94e]\\x94(\\x8c\\x0binitializer\\x94\\x8c\\x11pandas.core.frame\\x94h\\x01\\x93\\x94ee\\x86\\x94t\\x94shP}\\x94(h\\rK\\x01K\\x01\\x86\\x94\\x8c 588d6ba186d6978e1d7da159b5681d03\\x94K\\x01\\x85\\x94uhT}\\x94h\\xbah(\\x8c\\x10BlockwiseDepDict\\x94\\x93\\x94)\\x81\\x94}\\x94(h\\x1b}\\x94K\\x00\\x85\\x94K\\x00J\\x80\\x96\\x98\\x00\\x86\\x94sh^\\x89hPh\\xbb\\x8c\\x0e_produces_keys\\x94\\x89ubshch\\rh\\x8e\\x8c\\x02.1\\x94\\x86\\x94\\x86\\x94h\\xbah\\x8e\\x85\\x94\\x86\\x94\\x86\\x94hh\\x88hi}\\x94hk}\\x94(h\\x8eK\\x01h\\xc5K\\x01uhm}\\x94hH}\\x94h\\x0fK\\x00\\x86\\x94hs(h\\x90h\\x0f\\x8c\\x13__dask_blockwise__0\\x94\\x8c\\x13__dask_blockwise__1\\x94\\x86\\x94\\x8c6subgraph_callable-95ce5e9b-0e1d-48a3-91eb-a29d3fa35d81\\x94t\\x94R\\x94hJ\\x8c\\x10concatenate_axes\\x94\\x93\\x94]\\x94h\\rK\\x00K\\x00\\x87\\x94a]\\x94K\\x01a\\x87\\x94h\\xc3\\x87\\x94ssubuubh\\x0fh\\xb5)\\x81\\x94}\\x94(\\x8c\\x04_mgr\\x94\\x8c\\x1epandas.core.internals.managers\\x94\\x8c\\x0cBlockManager\\x94\\x93\\x94\\x8c\\x16pandas._libs.internals\\x94\\x8c\\x0f_unpickle_block\\x94\\x93\\x94h\\xa7(\\x97h5K\\x06K\\x00\\x86\\x94h\\xadt\\x94R\\x94h|K\\x00K\\x06K\\x01\\x87\\x94R\\x94K\\x02\\x87\\x94R\\x94\\x85\\x94]\\x94(h\\xa0h\\xa2}\\x94(h\\xa4h\\xafh#Nu\\x86\\x94R\\x94h\\xa0\\x8c\\x19pandas.core.indexes.range\\x94\\x8c\\nRangeIndex\\x94\\x93\\x94}\\x94(h#N\\x8c\\x05start\\x94K\\x00\\x8c\\x04stop\\x94K\\x00\\x8c\\x04step\\x94K\\x01u\\x86\\x94R\\x94e\\x86\\x94R\\x94\\x8c\\x04_typ\\x94\\x8c\\tdataframe\\x94\\x8c\\t_metadata\\x94]\\x94\\x8c\\x05attrs\\x94}\\x94\\x8c\\x06_flags\\x94}\\x94\\x8c\\x17allows_duplicate_labels\\x94\\x88subK\\x00J\\x7f\\x96\\x98\\x00\\x86\\x94t\\x94b.',\n",
       "  <memory at 0x7f2b4603d580>,\n",
       "  <memory at 0x7f2b456136c0>])"
      ]
     },
     "execution_count": 33,
     "metadata": {},
     "output_type": "execute_result"
    }
   ],
   "source": [
    "serialize(df_arr)"
   ]
  },
  {
   "cell_type": "code",
   "execution_count": 30,
   "id": "c8eaa52d-1369-487d-aa57-13d00ea789a8",
   "metadata": {},
   "outputs": [
    {
     "name": "stderr",
     "output_type": "stream",
     "text": [
      "/sdf/group/lcls/ds/ana/sw/conda2/inst/envs/ps-4.6.1/lib/python3.9/site-packages/dask/base.py:1437: UserWarning: Running on a single-machine scheduler when a distributed client is active might lead to unexpected results.\n",
      "  warnings.warn(\n"
     ]
    },
    {
     "ename": "type",
     "evalue": "h5py objects cannot be pickled",
     "output_type": "error",
     "traceback": [
      "\u001b[0;31m---------------------------------------------------------------------------\u001b[0m",
      "\u001b[0;31mTypeError\u001b[0m                                 Traceback (most recent call last)",
      "Cell \u001b[0;32mIn[30], line 1\u001b[0m\n\u001b[0;32m----> 1\u001b[0m \u001b[43mdf_arr\u001b[49m\u001b[38;5;241;43m.\u001b[39;49m\u001b[43mto_hdf\u001b[49m\u001b[43m(\u001b[49m\u001b[38;5;124;43m'\u001b[39;49m\u001b[38;5;124;43m/sdf/data/lcls/drpsrcf/ffb/users/monarin/h5/output-*.hdf\u001b[39;49m\u001b[38;5;124;43m'\u001b[39;49m\u001b[43m,\u001b[49m\u001b[43m \u001b[49m\u001b[38;5;124;43m'\u001b[39;49m\u001b[38;5;124;43m/data\u001b[39;49m\u001b[38;5;124;43m'\u001b[39;49m\u001b[43m,\u001b[49m\u001b[43m \u001b[49m\u001b[43mscheduler\u001b[49m\u001b[38;5;241;43m=\u001b[39;49m\u001b[38;5;124;43m'\u001b[39;49m\u001b[38;5;124;43mprocesses\u001b[39;49m\u001b[38;5;124;43m'\u001b[39;49m\u001b[43m)\u001b[49m \n",
      "File \u001b[0;32m/sdf/group/lcls/ds/ana/sw/conda2/inst/envs/ps-4.6.1/lib/python3.9/site-packages/dask/dataframe/io/hdf.py:279\u001b[0m, in \u001b[0;36mto_hdf\u001b[0;34m(df, path, key, mode, append, scheduler, name_function, compute, lock, dask_kwargs, **kwargs)\u001b[0m\n\u001b[1;32m    276\u001b[0m graph \u001b[38;5;241m=\u001b[39m HighLevelGraph\u001b[38;5;241m.\u001b[39mfrom_collections((name, \u001b[38;5;241m0\u001b[39m), dsk, dependencies\u001b[38;5;241m=\u001b[39m[df])\n\u001b[1;32m    278\u001b[0m \u001b[38;5;28;01mif\u001b[39;00m compute:\n\u001b[0;32m--> 279\u001b[0m     \u001b[43mcompute_as_if_collection\u001b[49m\u001b[43m(\u001b[49m\n\u001b[1;32m    280\u001b[0m \u001b[43m        \u001b[49m\u001b[43mDataFrame\u001b[49m\u001b[43m,\u001b[49m\u001b[43m \u001b[49m\u001b[43mgraph\u001b[49m\u001b[43m,\u001b[49m\u001b[43m \u001b[49m\u001b[43mkeys\u001b[49m\u001b[43m,\u001b[49m\u001b[43m \u001b[49m\u001b[43mscheduler\u001b[49m\u001b[38;5;241;43m=\u001b[39;49m\u001b[43mscheduler\u001b[49m\u001b[43m,\u001b[49m\u001b[43m \u001b[49m\u001b[38;5;241;43m*\u001b[39;49m\u001b[38;5;241;43m*\u001b[39;49m\u001b[43mdask_kwargs\u001b[49m\n\u001b[1;32m    281\u001b[0m \u001b[43m    \u001b[49m\u001b[43m)\u001b[49m\n\u001b[1;32m    282\u001b[0m     \u001b[38;5;28;01mreturn\u001b[39;00m filenames\n\u001b[1;32m    283\u001b[0m \u001b[38;5;28;01melse\u001b[39;00m:\n",
      "File \u001b[0;32m/sdf/group/lcls/ds/ana/sw/conda2/inst/envs/ps-4.6.1/lib/python3.9/site-packages/dask/multiprocessing.py:233\u001b[0m, in \u001b[0;36mget\u001b[0;34m(dsk, keys, num_workers, func_loads, func_dumps, optimize_graph, pool, initializer, chunksize, **kwargs)\u001b[0m\n\u001b[1;32m    228\u001b[0m \u001b[38;5;66;03m# Note former versions used a multiprocessing Manager to share\u001b[39;00m\n\u001b[1;32m    229\u001b[0m \u001b[38;5;66;03m# a Queue between parent and workers, but this is fragile on Windows\u001b[39;00m\n\u001b[1;32m    230\u001b[0m \u001b[38;5;66;03m# (issue #1652).\u001b[39;00m\n\u001b[1;32m    231\u001b[0m \u001b[38;5;28;01mtry\u001b[39;00m:\n\u001b[1;32m    232\u001b[0m     \u001b[38;5;66;03m# Run\u001b[39;00m\n\u001b[0;32m--> 233\u001b[0m     result \u001b[38;5;241m=\u001b[39m \u001b[43mget_async\u001b[49m\u001b[43m(\u001b[49m\n\u001b[1;32m    234\u001b[0m \u001b[43m        \u001b[49m\u001b[43mpool\u001b[49m\u001b[38;5;241;43m.\u001b[39;49m\u001b[43msubmit\u001b[49m\u001b[43m,\u001b[49m\n\u001b[1;32m    235\u001b[0m \u001b[43m        \u001b[49m\u001b[43mpool\u001b[49m\u001b[38;5;241;43m.\u001b[39;49m\u001b[43m_max_workers\u001b[49m\u001b[43m,\u001b[49m\n\u001b[1;32m    236\u001b[0m \u001b[43m        \u001b[49m\u001b[43mdsk3\u001b[49m\u001b[43m,\u001b[49m\n\u001b[1;32m    237\u001b[0m \u001b[43m        \u001b[49m\u001b[43mkeys\u001b[49m\u001b[43m,\u001b[49m\n\u001b[1;32m    238\u001b[0m \u001b[43m        \u001b[49m\u001b[43mget_id\u001b[49m\u001b[38;5;241;43m=\u001b[39;49m\u001b[43m_process_get_id\u001b[49m\u001b[43m,\u001b[49m\n\u001b[1;32m    239\u001b[0m \u001b[43m        \u001b[49m\u001b[43mdumps\u001b[49m\u001b[38;5;241;43m=\u001b[39;49m\u001b[43mdumps\u001b[49m\u001b[43m,\u001b[49m\n\u001b[1;32m    240\u001b[0m \u001b[43m        \u001b[49m\u001b[43mloads\u001b[49m\u001b[38;5;241;43m=\u001b[39;49m\u001b[43mloads\u001b[49m\u001b[43m,\u001b[49m\n\u001b[1;32m    241\u001b[0m \u001b[43m        \u001b[49m\u001b[43mpack_exception\u001b[49m\u001b[38;5;241;43m=\u001b[39;49m\u001b[43mpack_exception\u001b[49m\u001b[43m,\u001b[49m\n\u001b[1;32m    242\u001b[0m \u001b[43m        \u001b[49m\u001b[43mraise_exception\u001b[49m\u001b[38;5;241;43m=\u001b[39;49m\u001b[43mreraise\u001b[49m\u001b[43m,\u001b[49m\n\u001b[1;32m    243\u001b[0m \u001b[43m        \u001b[49m\u001b[43mchunksize\u001b[49m\u001b[38;5;241;43m=\u001b[39;49m\u001b[43mchunksize\u001b[49m\u001b[43m,\u001b[49m\n\u001b[1;32m    244\u001b[0m \u001b[43m        \u001b[49m\u001b[38;5;241;43m*\u001b[39;49m\u001b[38;5;241;43m*\u001b[39;49m\u001b[43mkwargs\u001b[49m\u001b[43m,\u001b[49m\n\u001b[1;32m    245\u001b[0m \u001b[43m    \u001b[49m\u001b[43m)\u001b[49m\n\u001b[1;32m    246\u001b[0m \u001b[38;5;28;01mfinally\u001b[39;00m:\n\u001b[1;32m    247\u001b[0m     \u001b[38;5;28;01mif\u001b[39;00m cleanup:\n",
      "File \u001b[0;32m/sdf/group/lcls/ds/ana/sw/conda2/inst/envs/ps-4.6.1/lib/python3.9/site-packages/dask/local.py:499\u001b[0m, in \u001b[0;36mget_async\u001b[0;34m(submit, num_workers, dsk, result, cache, get_id, rerun_exceptions_locally, pack_exception, raise_exception, callbacks, dumps, loads, chunksize, **kwargs)\u001b[0m\n\u001b[1;32m    497\u001b[0m \u001b[38;5;66;03m# Main loop, wait on tasks to finish, insert new ones\u001b[39;00m\n\u001b[1;32m    498\u001b[0m \u001b[38;5;28;01mwhile\u001b[39;00m state[\u001b[38;5;124m\"\u001b[39m\u001b[38;5;124mwaiting\u001b[39m\u001b[38;5;124m\"\u001b[39m] \u001b[38;5;129;01mor\u001b[39;00m state[\u001b[38;5;124m\"\u001b[39m\u001b[38;5;124mready\u001b[39m\u001b[38;5;124m\"\u001b[39m] \u001b[38;5;129;01mor\u001b[39;00m state[\u001b[38;5;124m\"\u001b[39m\u001b[38;5;124mrunning\u001b[39m\u001b[38;5;124m\"\u001b[39m]:\n\u001b[0;32m--> 499\u001b[0m     \u001b[43mfire_tasks\u001b[49m\u001b[43m(\u001b[49m\u001b[43mchunksize\u001b[49m\u001b[43m)\u001b[49m\n\u001b[1;32m    500\u001b[0m     \u001b[38;5;28;01mfor\u001b[39;00m key, res_info, failed \u001b[38;5;129;01min\u001b[39;00m queue_get(queue)\u001b[38;5;241m.\u001b[39mresult():\n\u001b[1;32m    501\u001b[0m         \u001b[38;5;28;01mif\u001b[39;00m failed:\n",
      "File \u001b[0;32m/sdf/group/lcls/ds/ana/sw/conda2/inst/envs/ps-4.6.1/lib/python3.9/site-packages/dask/local.py:481\u001b[0m, in \u001b[0;36mget_async.<locals>.fire_tasks\u001b[0;34m(chunksize)\u001b[0m\n\u001b[1;32m    474\u001b[0m     \u001b[38;5;66;03m# Prep args to send\u001b[39;00m\n\u001b[1;32m    475\u001b[0m     data \u001b[38;5;241m=\u001b[39m {\n\u001b[1;32m    476\u001b[0m         dep: state[\u001b[38;5;124m\"\u001b[39m\u001b[38;5;124mcache\u001b[39m\u001b[38;5;124m\"\u001b[39m][dep] \u001b[38;5;28;01mfor\u001b[39;00m dep \u001b[38;5;129;01min\u001b[39;00m get_dependencies(dsk, key)\n\u001b[1;32m    477\u001b[0m     }\n\u001b[1;32m    478\u001b[0m     args\u001b[38;5;241m.\u001b[39mappend(\n\u001b[1;32m    479\u001b[0m         (\n\u001b[1;32m    480\u001b[0m             key,\n\u001b[0;32m--> 481\u001b[0m             \u001b[43mdumps\u001b[49m\u001b[43m(\u001b[49m\u001b[43m(\u001b[49m\u001b[43mdsk\u001b[49m\u001b[43m[\u001b[49m\u001b[43mkey\u001b[49m\u001b[43m]\u001b[49m\u001b[43m,\u001b[49m\u001b[43m \u001b[49m\u001b[43mdata\u001b[49m\u001b[43m)\u001b[49m\u001b[43m)\u001b[49m,\n\u001b[1;32m    482\u001b[0m             dumps,\n\u001b[1;32m    483\u001b[0m             loads,\n\u001b[1;32m    484\u001b[0m             get_id,\n\u001b[1;32m    485\u001b[0m             pack_exception,\n\u001b[1;32m    486\u001b[0m         )\n\u001b[1;32m    487\u001b[0m     )\n\u001b[1;32m    489\u001b[0m \u001b[38;5;66;03m# Batch submit\u001b[39;00m\n\u001b[1;32m    490\u001b[0m \u001b[38;5;28;01mfor\u001b[39;00m i \u001b[38;5;129;01min\u001b[39;00m \u001b[38;5;28mrange\u001b[39m(\u001b[38;5;241m-\u001b[39m(\u001b[38;5;28mlen\u001b[39m(args) \u001b[38;5;241m/\u001b[39m\u001b[38;5;241m/\u001b[39m \u001b[38;5;241m-\u001b[39mchunksize)):\n",
      "File \u001b[0;32m/sdf/group/lcls/ds/ana/sw/conda2/inst/envs/ps-4.6.1/lib/python3.9/site-packages/cloudpickle/cloudpickle_fast.py:73\u001b[0m, in \u001b[0;36mdumps\u001b[0;34m(obj, protocol, buffer_callback)\u001b[0m\n\u001b[1;32m     69\u001b[0m \u001b[38;5;28;01mwith\u001b[39;00m io\u001b[38;5;241m.\u001b[39mBytesIO() \u001b[38;5;28;01mas\u001b[39;00m file:\n\u001b[1;32m     70\u001b[0m     cp \u001b[38;5;241m=\u001b[39m CloudPickler(\n\u001b[1;32m     71\u001b[0m         file, protocol\u001b[38;5;241m=\u001b[39mprotocol, buffer_callback\u001b[38;5;241m=\u001b[39mbuffer_callback\n\u001b[1;32m     72\u001b[0m     )\n\u001b[0;32m---> 73\u001b[0m     \u001b[43mcp\u001b[49m\u001b[38;5;241;43m.\u001b[39;49m\u001b[43mdump\u001b[49m\u001b[43m(\u001b[49m\u001b[43mobj\u001b[49m\u001b[43m)\u001b[49m\n\u001b[1;32m     74\u001b[0m     \u001b[38;5;28;01mreturn\u001b[39;00m file\u001b[38;5;241m.\u001b[39mgetvalue()\n",
      "File \u001b[0;32m/sdf/group/lcls/ds/ana/sw/conda2/inst/envs/ps-4.6.1/lib/python3.9/site-packages/cloudpickle/cloudpickle_fast.py:632\u001b[0m, in \u001b[0;36mCloudPickler.dump\u001b[0;34m(self, obj)\u001b[0m\n\u001b[1;32m    630\u001b[0m \u001b[38;5;28;01mdef\u001b[39;00m \u001b[38;5;21mdump\u001b[39m(\u001b[38;5;28mself\u001b[39m, obj):\n\u001b[1;32m    631\u001b[0m     \u001b[38;5;28;01mtry\u001b[39;00m:\n\u001b[0;32m--> 632\u001b[0m         \u001b[38;5;28;01mreturn\u001b[39;00m \u001b[43mPickler\u001b[49m\u001b[38;5;241;43m.\u001b[39;49m\u001b[43mdump\u001b[49m\u001b[43m(\u001b[49m\u001b[38;5;28;43mself\u001b[39;49m\u001b[43m,\u001b[49m\u001b[43m \u001b[49m\u001b[43mobj\u001b[49m\u001b[43m)\u001b[49m\n\u001b[1;32m    633\u001b[0m     \u001b[38;5;28;01mexcept\u001b[39;00m \u001b[38;5;167;01mRuntimeError\u001b[39;00m \u001b[38;5;28;01mas\u001b[39;00m e:\n\u001b[1;32m    634\u001b[0m         \u001b[38;5;28;01mif\u001b[39;00m \u001b[38;5;124m\"\u001b[39m\u001b[38;5;124mrecursion\u001b[39m\u001b[38;5;124m\"\u001b[39m \u001b[38;5;129;01min\u001b[39;00m e\u001b[38;5;241m.\u001b[39margs[\u001b[38;5;241m0\u001b[39m]:\n",
      "File \u001b[0;32m/sdf/group/lcls/ds/ana/sw/conda2/inst/envs/ps-4.6.1/lib/python3.9/site-packages/h5py/_hl/base.py:368\u001b[0m, in \u001b[0;36mHLObject.__getnewargs__\u001b[0;34m(self)\u001b[0m\n\u001b[1;32m    358\u001b[0m \u001b[38;5;28;01mdef\u001b[39;00m \u001b[38;5;21m__getnewargs__\u001b[39m(\u001b[38;5;28mself\u001b[39m):\n\u001b[1;32m    359\u001b[0m \u001b[38;5;250m    \u001b[39m\u001b[38;5;124;03m\"\"\"Disable pickle.\u001b[39;00m\n\u001b[1;32m    360\u001b[0m \n\u001b[1;32m    361\u001b[0m \u001b[38;5;124;03m    Handles for HDF5 objects can't be reliably deserialised, because the\u001b[39;00m\n\u001b[0;32m   (...)\u001b[0m\n\u001b[1;32m    366\u001b[0m \u001b[38;5;124;03m    limitations, look at the h5pickle project on PyPI.\u001b[39;00m\n\u001b[1;32m    367\u001b[0m \u001b[38;5;124;03m    \"\"\"\u001b[39;00m\n\u001b[0;32m--> 368\u001b[0m     \u001b[38;5;28;01mraise\u001b[39;00m \u001b[38;5;167;01mTypeError\u001b[39;00m(\u001b[38;5;124m\"\u001b[39m\u001b[38;5;124mh5py objects cannot be pickled\u001b[39m\u001b[38;5;124m\"\u001b[39m)\n",
      "\u001b[0;31mTypeError\u001b[0m: h5py objects cannot be pickled"
     ]
    }
   ],
   "source": [
    "df_arr.to_hdf('/sdf/data/lcls/drpsrcf/ffb/users/monarin/h5/output-*.hdf', '/data', scheduler='processes') "
   ]
  },
  {
   "cell_type": "code",
   "execution_count": 13,
   "id": "da7a2fd4-1e18-4a92-b5dc-feb83388f2a8",
   "metadata": {},
   "outputs": [
    {
     "name": "stderr",
     "output_type": "stream",
     "text": [
      "/sdf/group/lcls/ds/ana/sw/conda2/inst/envs/ps-4.6.1/lib/python3.9/site-packages/distributed/client.py:3125: UserWarning: Sending large graph of size 9.54 MiB.\n",
      "This may cause some slowdown.\n",
      "Consider scattering data ahead of time and using futures.\n",
      "  warnings.warn(\n"
     ]
    }
   ],
   "source": [
    "arr = da_arr[inds].compute()"
   ]
  },
  {
   "cell_type": "code",
   "execution_count": 14,
   "id": "a8aedd95-160f-465b-a82b-a8cf2ec1b05c",
   "metadata": {},
   "outputs": [
    {
     "data": {
      "text/plain": [
       "array([[0., 0., 0., 0., 0., 0.],\n",
       "       [0., 0., 0., 0., 0., 0.],\n",
       "       [0., 0., 0., 0., 0., 0.],\n",
       "       ...,\n",
       "       [0., 0., 0., 0., 0., 0.],\n",
       "       [0., 0., 0., 0., 0., 0.],\n",
       "       [0., 0., 0., 0., 0., 0.]])"
      ]
     },
     "execution_count": 14,
     "metadata": {},
     "output_type": "execute_result"
    }
   ],
   "source": [
    "arr"
   ]
  },
  {
   "cell_type": "code",
   "execution_count": 16,
   "id": "0d4d2381-f602-4e7d-89ff-45dde1577f81",
   "metadata": {},
   "outputs": [
    {
     "data": {
      "text/plain": [
       "(10000000, 6)"
      ]
     },
     "execution_count": 16,
     "metadata": {},
     "output_type": "execute_result"
    }
   ],
   "source": [
    "arr.shape"
   ]
  },
  {
   "cell_type": "code",
   "execution_count": 21,
   "id": "dd3eb0a9-5ac2-45d7-a49e-ae7a7486b802",
   "metadata": {},
   "outputs": [],
   "source": [
    "data = {'calib': arr}"
   ]
  },
  {
   "cell_type": "code",
   "execution_count": 23,
   "id": "e136afb3-328f-4eee-9ccd-e8391c5ef216",
   "metadata": {},
   "outputs": [
    {
     "ename": "type",
     "evalue": "All sources must be dask array objects",
     "output_type": "error",
     "traceback": [
      "\u001b[0;31m---------------------------------------------------------------------------\u001b[0m",
      "\u001b[0;31mValueError\u001b[0m                                Traceback (most recent call last)",
      "Cell \u001b[0;32mIn[23], line 1\u001b[0m\n\u001b[0;32m----> 1\u001b[0m \u001b[43mda\u001b[49m\u001b[38;5;241;43m.\u001b[39;49m\u001b[43mto_hdf5\u001b[49m\u001b[43m(\u001b[49m\u001b[38;5;124;43m'\u001b[39;49m\u001b[38;5;124;43m/sdf/data/lcls/drpsrcf/ffb/users/monarin/h5/tmp_out.h5\u001b[39;49m\u001b[38;5;124;43m'\u001b[39;49m\u001b[43m,\u001b[49m\u001b[43m \u001b[49m\u001b[43mdata\u001b[49m\u001b[43m,\u001b[49m\u001b[43m \u001b[49m\u001b[43mchunks\u001b[49m\u001b[38;5;241;43m=\u001b[39;49m\u001b[38;5;28;43;01mFalse\u001b[39;49;00m\u001b[43m)\u001b[49m\n",
      "File \u001b[0;32m/sdf/group/lcls/ds/ana/sw/conda2/inst/envs/ps-4.6.1/lib/python3.9/site-packages/dask/array/core.py:5385\u001b[0m, in \u001b[0;36mto_hdf5\u001b[0;34m(filename, chunks, *args, **kwargs)\u001b[0m\n\u001b[1;32m   5374\u001b[0m \u001b[38;5;28;01mwith\u001b[39;00m h5py\u001b[38;5;241m.\u001b[39mFile(filename, mode\u001b[38;5;241m=\u001b[39m\u001b[38;5;124m\"\u001b[39m\u001b[38;5;124ma\u001b[39m\u001b[38;5;124m\"\u001b[39m) \u001b[38;5;28;01mas\u001b[39;00m f:\n\u001b[1;32m   5375\u001b[0m     dsets \u001b[38;5;241m=\u001b[39m [\n\u001b[1;32m   5376\u001b[0m         f\u001b[38;5;241m.\u001b[39mrequire_dataset(\n\u001b[1;32m   5377\u001b[0m             dp,\n\u001b[0;32m   (...)\u001b[0m\n\u001b[1;32m   5383\u001b[0m         \u001b[38;5;28;01mfor\u001b[39;00m dp, x \u001b[38;5;129;01min\u001b[39;00m data\u001b[38;5;241m.\u001b[39mitems()\n\u001b[1;32m   5384\u001b[0m     ]\n\u001b[0;32m-> 5385\u001b[0m     \u001b[43mstore\u001b[49m\u001b[43m(\u001b[49m\u001b[38;5;28;43mlist\u001b[39;49m\u001b[43m(\u001b[49m\u001b[43mdata\u001b[49m\u001b[38;5;241;43m.\u001b[39;49m\u001b[43mvalues\u001b[49m\u001b[43m(\u001b[49m\u001b[43m)\u001b[49m\u001b[43m)\u001b[49m\u001b[43m,\u001b[49m\u001b[43m \u001b[49m\u001b[43mdsets\u001b[49m\u001b[43m)\u001b[49m\n",
      "File \u001b[0;32m/sdf/group/lcls/ds/ana/sw/conda2/inst/envs/ps-4.6.1/lib/python3.9/site-packages/dask/array/core.py:1147\u001b[0m, in \u001b[0;36mstore\u001b[0;34m(sources, targets, lock, regions, compute, return_stored, **kwargs)\u001b[0m\n\u001b[1;32m   1144\u001b[0m targets \u001b[38;5;241m=\u001b[39m cast(\u001b[38;5;124m\"\u001b[39m\u001b[38;5;124mCollection[ArrayLike | Delayed]\u001b[39m\u001b[38;5;124m\"\u001b[39m, targets)\n\u001b[1;32m   1146\u001b[0m \u001b[38;5;28;01mif\u001b[39;00m \u001b[38;5;28many\u001b[39m(\u001b[38;5;129;01mnot\u001b[39;00m \u001b[38;5;28misinstance\u001b[39m(s, Array) \u001b[38;5;28;01mfor\u001b[39;00m s \u001b[38;5;129;01min\u001b[39;00m sources):\n\u001b[0;32m-> 1147\u001b[0m     \u001b[38;5;28;01mraise\u001b[39;00m \u001b[38;5;167;01mValueError\u001b[39;00m(\u001b[38;5;124m\"\u001b[39m\u001b[38;5;124mAll sources must be dask array objects\u001b[39m\u001b[38;5;124m\"\u001b[39m)\n\u001b[1;32m   1149\u001b[0m \u001b[38;5;28;01mif\u001b[39;00m \u001b[38;5;28mlen\u001b[39m(sources) \u001b[38;5;241m!=\u001b[39m \u001b[38;5;28mlen\u001b[39m(targets):\n\u001b[1;32m   1150\u001b[0m     \u001b[38;5;28;01mraise\u001b[39;00m \u001b[38;5;167;01mValueError\u001b[39;00m(\n\u001b[1;32m   1151\u001b[0m         \u001b[38;5;124m\"\u001b[39m\u001b[38;5;124mDifferent number of sources [\u001b[39m\u001b[38;5;132;01m%d\u001b[39;00m\u001b[38;5;124m] and targets [\u001b[39m\u001b[38;5;132;01m%d\u001b[39;00m\u001b[38;5;124m]\u001b[39m\u001b[38;5;124m\"\u001b[39m\n\u001b[1;32m   1152\u001b[0m         \u001b[38;5;241m%\u001b[39m (\u001b[38;5;28mlen\u001b[39m(sources), \u001b[38;5;28mlen\u001b[39m(targets))\n\u001b[1;32m   1153\u001b[0m     )\n",
      "\u001b[0;31mValueError\u001b[0m: All sources must be dask array objects"
     ]
    }
   ],
   "source": [
    "da.to_hdf5('/sdf/data/lcls/drpsrcf/ffb/users/monarin/h5/tmp_out.h5', data, chunks=False)"
   ]
  },
  {
   "cell_type": "code",
   "execution_count": null,
   "id": "0745adfa-eaa7-4b31-b6cf-6293f2d30425",
   "metadata": {},
   "outputs": [],
   "source": []
  }
 ],
 "metadata": {
  "kernelspec": {
   "display_name": "Python 3 (ipykernel)",
   "language": "python",
   "name": "python3"
  },
  "language_info": {
   "codemirror_mode": {
    "name": "ipython",
    "version": 3
   },
   "file_extension": ".py",
   "mimetype": "text/x-python",
   "name": "python",
   "nbconvert_exporter": "python",
   "pygments_lexer": "ipython3",
   "version": "3.9.16"
  }
 },
 "nbformat": 4,
 "nbformat_minor": 5
}
